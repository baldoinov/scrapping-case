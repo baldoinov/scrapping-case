{
 "cells": [
  {
   "cell_type": "markdown",
   "metadata": {},
   "source": [
    "# Case - Vinci Partners\n",
    "\n",
    "***\n",
    "\n",
    "Case de programção realizado em agosto/2022."
   ]
  },
  {
   "cell_type": "code",
   "execution_count": null,
   "metadata": {},
   "outputs": [],
   "source": [
    "import plotly\n",
    "import pandas\n",
    "import pytrends"
   ]
  },
  {
   "cell_type": "markdown",
   "metadata": {},
   "source": [
    "## Programação\n",
    "\n",
    "***"
   ]
  },
  {
   "cell_type": "markdown",
   "metadata": {},
   "source": [
    "1. Web-Scrapping\n",
    "\n",
    "> Colete o preço médio (ou seja, de múltiplos produtos de marcas diferentes, por exemplo) de uma televisão de 55 polegadas para cada Estado Brasileiro assim como o respectivo custo do frete para apenas um CEP aleatório situado em uma capital para cada Estado."
   ]
  },
  {
   "cell_type": "code",
   "execution_count": null,
   "metadata": {},
   "outputs": [],
   "source": []
  },
  {
   "cell_type": "markdown",
   "metadata": {},
   "source": [
    "2. Econometria\n",
    "\n",
    "> Colete séries do Google Trends (usando a biblioteca ``pytrends``) para os termos \"Stocks\", \"Risk\", \"Recession\", \"Inflation\" e \"Unemployment\". Utilize dados mensais de 2010 até 2022."
   ]
  },
  {
   "cell_type": "code",
   "execution_count": null,
   "metadata": {},
   "outputs": [],
   "source": []
  },
  {
   "cell_type": "markdown",
   "metadata": {},
   "source": [
    "## Insights\n",
    "\n",
    "***\n",
    "\n",
    "> Explique como você coletaria as informações do site que contém o histórico do número de vôos deste aeroporto disponível no site:\n",
    "> <center> https://flightaware.com/live/airport/ZSPD </center>\n"
   ]
  },
  {
   "cell_type": "markdown",
   "metadata": {},
   "source": []
  },
  {
   "cell_type": "markdown",
   "metadata": {},
   "source": [
    "## Questão Bônus\n",
    "\n",
    "***\n",
    "\n",
    "> Escolha dois modelos estatísticos abaixo e explique como implementá-los e quais suas limitações para a projeção de séries temporais:\n",
    "> \n",
    "> *<center> ARIMA, SARIMA, VAR, LASSO, RIDGE, Random Forest, Neural Networks </center>*\n"
   ]
  },
  {
   "cell_type": "markdown",
   "metadata": {},
   "source": []
  }
 ],
 "metadata": {
  "kernelspec": {
   "display_name": "Python 3.8.10 ('.venv': venv)",
   "language": "python",
   "name": "python3"
  },
  "language_info": {
   "name": "python",
   "version": "3.8.10"
  },
  "orig_nbformat": 4,
  "vscode": {
   "interpreter": {
    "hash": "e408aaf3f8d7c8ac13fbbb8d8f4449e30451abd3ac33f0bafd3bc2262663b050"
   }
  }
 },
 "nbformat": 4,
 "nbformat_minor": 2
}
